{
 "cells": [
  {
   "cell_type": "code",
   "execution_count": 2,
   "id": "131e0e8f",
   "metadata": {},
   "outputs": [],
   "source": [
    "using CSV;\n",
    "using PyCall;\n",
    "using PyPlot;\n",
    "using Printf;\n",
    "using StatsBase;\n",
    "using DataFrames, FreqTables\n",
    "using HypothesisTests\n",
    "\n",
    "np  = pyimport(\"numpy\");\n",
    "sns = pyimport(\"seaborn\");\n",
    "ss  = pyimport(\"scipy.stats\");\n",
    "wrg = pyimport(\"warnings\");\n",
    "pd  = pyimport(\"pandas\");\n",
    "gs  = pyimport(\"matplotlib.gridspec\");\n",
    "\n",
    "wrg.filterwarnings(\"ignore\")\n",
    "include(\"../scripts/utils_3.jl\")"
   ]
  },
  {
   "cell_type": "code",
   "execution_count": 3,
   "id": "741c5a92",
   "metadata": {},
   "outputs": [],
   "source": [
    "py\"\"\"\n",
    "import random\n",
    "import numpy as np\n",
    "import pandas as pd\n",
    "import statsmodels.api as sm\n",
    "import statsmodels.formula.api as api\n",
    "def test(diff, diff_mean):\n",
    "    return np.mean(diff >= diff_mean)\n",
    "def samp(x):\n",
    "    return random.sample(sorted(x), 1000)\n",
    "def anova(df, ty, te, frm):\n",
    "    return sm.stats.anova_lm(api.ols(frm, data=df).fit(), typ=ty, test=te)\n",
    "\"\"\""
   ]
  },
  {
   "cell_type": "markdown",
   "id": "5df92f6f",
   "metadata": {},
   "source": [
    "# Capítulo 3"
   ]
  },
  {
   "cell_type": "markdown",
   "id": "c8cd5215",
   "metadata": {
    "heading_collapsed": true
   },
   "source": [
    "## 3.1. Teste de Hipóteses"
   ]
  },
  {
   "cell_type": "markdown",
   "id": "72e4e65e",
   "metadata": {
    "hidden": true
   },
   "source": [
    "Os testes de hipóteses são um dos pilares da estatística, o objetivo desses testes são rejeitar ou confirmar hipóteses, os testes de hipóteses também são chamados de testes de significância, em outras palavras, nos permite rejeitar ou não uma hipótese estatística com base nos resultados de uma amostra.\n",
    "Os testes de hipóteses são importantes pois dado a tendência humana em reagir a eventos incomuns e interpretá-los como algo significativo e real, em experimentos requer provas de que esses eventos são realmente diferentes e não eventos aleatórios."
   ]
  },
  {
   "cell_type": "markdown",
   "id": "488a674e",
   "metadata": {
    "hidden": true
   },
   "source": [
    "**\"Exemplo Simplificado\"**\n",
    "\n",
    "Imagine um experimento de quatro exemplos de remédio para crescimento capilar que foram distribuidos aleatoriamente a um grupo de tamahnho *n* $(Pois~estudar~estatística~é~de~perder ~os~cabelos)$ 😂\n",
    "\n",
    "Ao passar umas 4 semanas, você pode desenhar um boxplot ou até mesmo um lineplot simples de **cm de cabelos que cresceram ao decorrer dessas 4 semanas**, e imagine que os três primeiros boxplots tiveram um formato bem parecido, são todos pequenos e não muito grandes, porém o último boxplot foi totalmente diferente, com a uma mediana maior e a variância diferente também.\n",
    "\n",
    "Visualmente você poderia afirmar que o 4° remédio realmente teve um efeito por que a mediana e o formato dele é maior que os demais boxplots, em outras palavras, o último remédio foi o que teve mais efeito de crescimento de cabelo do que os outros remédios, **mas esse efeito é gerado por acaso, ou seja, esse efeito já era esperado pois os cabelos crescem naturalmente ou esse efeito realmente foi pelo remédio**, em outras palavras, esse efeito é $Estatisticamente~Significânte?$\n",
    "\n",
    "Para isso deve-se utilizar as técnicas de testes de hipóteses, que nesse caso, pode ser um teste de Anova ou uma estatística f, pois as variâncias dos grupos de remédios são diferentes."
   ]
  },
  {
   "cell_type": "markdown",
   "id": "75d15ef2",
   "metadata": {
    "hidden": true
   },
   "source": [
    "1. A variável de \"grupamento\" para esse teste são os remédios, pois para cada remédio, existem os cm de cabelos que cresceram para cada uma das pessoas que usou esse remédio.\n",
    "\n",
    "\n",
    "2. E a variável dependente (A variável que estou medindo) é os cm de cabelos que cresceram.\n",
    "\n",
    "\n",
    "3. Quanto do fator aleatório eu espero nesse teste? em outras palavras, até quantos % de **aleatoriedade** esse efeito do crescimento dos cabelos eu aceito? 5%, 10% ?\n",
    "\n",
    "    - Vamos supor que eu aceite até 5% de aleatoriedade no meu experimento.\n",
    "    - Mas por que esses 5% ? Pois, se eu estou dizendo que teve um efeito os remédios, como que eu vou medir esse efeito utilizando um limite por exemplo de aleatoriedade, para isso que serve esses 5%.\n",
    "    \n",
    "    \n",
    "4. Agora é a etapa de validar as hipóteses, mas qual são elas ?\n",
    "\n",
    "    - A primeira hipótese é que, realmente **não** teve um efeito significativo os 4 remédios.\n",
    "    - A segunda hipótese é que, realmente **teve** um efeito significativo *algum* dos 4 remédios.\n",
    "    \n",
    "\n",
    "<font color=\"blue\">Após rodar esse teste, digamos, que o resultado do teste foi 0.0004 o \"p-valor\", logo o teste do Anova retornou uma probabilidade vamos dizer assim de 0.0004, então **0.0004 é menor que 0.5** Se essa probabilidade foi menor do nível de aleatoriedade que eu aceito, então a **segunda** hipótese é válida, por que teve um efeito algum desses 4 remédios aplicados pois, se eu espero até 5%, e o teste afirma que foi 0.0004, teve um efeito \"raro\", mas o Anova não fala qual dos remédios teve esse efeito raro, apenas retorna um número que você tem que interpretar depois.</font>"
   ]
  },
  {
   "cell_type": "markdown",
   "id": "cd76ee23",
   "metadata": {
    "hidden": true
   },
   "source": [
    "**Dicionários de Termos**\n",
    "\n",
    " - **Hipótese Nula Ho**: Nada mais é que o esperado, ou seja, o que já está acontecendo, o comum.\n",
    " - **Hipótese Alternativa Ha**: O fenômeno que está sendo analisado, o contraponto da hipótese nula.\n",
    " - **Teste Unilateral**: Ou também chamado de teste Unicaldal, onde as possibilidades estão em uma direção.\n",
    " - **Teste Bilateral**: Ou também chamado de teste Bicaldal, onde as possibilidades estão em duas direções.\n",
    " - **Nível de Significância**: É a probabilidade máxima permissível para cometer um erro de tipo I, em outras palavras é o limite para aceitar ou rejeitar a hipótese, esses limites estão entre (1%, 5% e 10%), também chamado de α.\n",
    " - **P-Valor**: Trabalha junto com o Nível de Significância e com a Ho sendo verdadeira, nada mais é que o valor para concluir o teste de hipótese, logo ele evidência que:\n",
    "     - Se o p-valor for menor ou igual ao nível de significância, rejeita-se a Hipótese Nula, pois realmente surtiu efeito o teste.\n",
    "     - Se o p-valor for maior que o α, aceita a Hipótese Nula, por não ter evidências o suficiente para aceitar a Hipótese Alternativa.\n",
    " - **Teste Estatístico**: Uma operação com dois grupos, ex subtrair a média de dois grupos."
   ]
  },
  {
   "cell_type": "code",
   "execution_count": 171,
   "id": "0386f870",
   "metadata": {
    "hidden": true
   },
   "outputs": [],
   "source": [
    "df = DataFrame(CSV.File(\"../data/web_page_data.csv\"));"
   ]
  },
  {
   "cell_type": "code",
   "execution_count": 140,
   "id": "4257f13a",
   "metadata": {
    "hidden": true
   },
   "outputs": [
    {
     "data": {
      "text/html": [
       "<div class=\"data-frame\"><p>1 rows × 2 columns</p><table class=\"data-frame\"><thead><tr><th></th><th>Page A</th><th>Page B</th></tr><tr><th></th><th title=\"Float64\">Float64</th><th title=\"Float64\">Float64</th></tr></thead><tbody><tr><th>1</th><td>1.26333</td><td>1.62</td></tr></tbody></table></div>"
      ],
      "text/latex": [
       "\\begin{tabular}{r|cc}\n",
       "\t& Page A & Page B\\\\\n",
       "\t\\hline\n",
       "\t& Float64 & Float64\\\\\n",
       "\t\\hline\n",
       "\t1 & 1.26333 & 1.62 \\\\\n",
       "\\end{tabular}\n"
      ],
      "text/plain": [
       "\u001b[1m1×2 DataFrame\u001b[0m\n",
       "\u001b[1m Row \u001b[0m│\u001b[1m Page A  \u001b[0m\u001b[1m Page B  \u001b[0m\n",
       "\u001b[1m     \u001b[0m│\u001b[90m Float64 \u001b[0m\u001b[90m Float64 \u001b[0m\n",
       "─────┼──────────────────\n",
       "   1 │ 1.26333     1.62"
      ]
     },
     "execution_count": 140,
     "metadata": {},
     "output_type": "execute_result"
    }
   ],
   "source": [
    "DataFrame(Dict(\"Page A\" => np.mean(df[df.Page .== \"Page A\", 2]), \"Page B\" => np.mean(df[df.Page .== \"Page B\", 2])))"
   ]
  },
  {
   "cell_type": "code",
   "execution_count": 43,
   "id": "429f8b68",
   "metadata": {
    "hidden": true
   },
   "outputs": [
    {
     "name": "stdout",
     "output_type": "stream",
     "text": [
      "Diferença do tempo de sessão entre a página A e B: 0.36"
     ]
    }
   ],
   "source": [
    "mean_page_a = np.mean(df[df.Page .== \"Page A\", 2])\n",
    "mean_page_b = np.mean(df[df.Page .== \"Page B\", 2])\n",
    "mean_diff = (mean_page_b - mean_page_a)\n",
    "\n",
    "@printf \"Diferença do tempo de sessão entre a página A e B: %.2f\" mean_diff"
   ]
  },
  {
   "cell_type": "code",
   "execution_count": 24,
   "id": "0edab564",
   "metadata": {
    "hidden": true
   },
   "outputs": [
    {
     "name": "stdout",
     "output_type": "stream",
     "text": [
      "A média da sessão da página A é: 1.263 \n",
      "A média da sessão da página B é: 1.620"
     ]
    }
   ],
   "source": [
    "@printf \"A média da sessão da página A é: %.3f \\n\" mean_page_a\n",
    "@printf \"A média da sessão da página B é: %.3f\" mean_page_b"
   ]
  },
  {
   "cell_type": "markdown",
   "id": "444fbc99",
   "metadata": {
    "hidden": true
   },
   "source": [
    "Agora a pergunta é: **Esse tempo foi gerado pelo acaso ou pela característica da página?**\n",
    "\n",
    "Existem várias ferramentas para validar hipóteses, como o teste de permutação, teste t...\n",
    "E o exemplo de hipóteses seria:"
   ]
  },
  {
   "cell_type": "markdown",
   "id": "1c4b166c",
   "metadata": {
    "hidden": true
   },
   "source": [
    "$$H_o: \\text{A média do tempo de sessão para a página A é menor ou igual que a B}$$\n",
    "$$H_a: \\text{A média do tempo de sessão para a página A é maior que a B}$$\n",
    "$$\\alpha = .05$$"
   ]
  },
  {
   "cell_type": "markdown",
   "id": "b3f65f9b",
   "metadata": {
    "heading_collapsed": true
   },
   "source": [
    "## 3.2. Reamostragem "
   ]
  },
  {
   "cell_type": "markdown",
   "id": "579005bf",
   "metadata": {
    "heading_collapsed": true,
    "hidden": true
   },
   "source": [
    "### 3.2.1. Teste de Permutação em tempos de sessão."
   ]
  },
  {
   "cell_type": "markdown",
   "id": "b866f06a",
   "metadata": {
    "hidden": true
   },
   "source": [
    "Uma das formas de responder as hipóteses anteriores é com o teste de permutação.\n",
    "\n",
    "O teste de permutação nada mais é que um teste para verificar se tem realmente um significado estatístico.<br>\n",
    "1. Separar o grupo de controle e o grupo de tratamento, o de tratamento que vai ser o grupo que irá receber o teste.\n",
    "2. Depois do teste, calcular alguma estatística, exemplo a média da diferença dos dois grupos e guardar esse valor.\n",
    "3. Juntar em uma base de dados o grupo de controle e o grupo de tratamento.\n",
    "4. Amostragem aleatória de diferentes indivíduos dessa base de dados e calcular a mesma estatística e armazenar o resultado.\n",
    "5. Montar uma distribuição com os resultados.\n",
    "6. Calcula a quantidade de vezes que os valores maior que a média sairam durante o processo de amostragem e divide pela quantidade de vezes que foi realizado a amostragem, logo esse é o p-valor, o valor da aleatoriedade na escolha dos grupos."
   ]
  },
  {
   "cell_type": "markdown",
   "id": "e08549a7",
   "metadata": {
    "hidden": true
   },
   "source": [
    "- **Mas por que juntar os grupos e fazer essa amostragem ?**\n",
    "    Pois, assumindo que o tempo das páginas é devido a aleatoriedade, ou seja, idependentemente das páginas web, os usuários iriam ou não converter, e ao misturar, o valor da diferença das médias tenderia a ser próximo da média calculada com o *grupo de controle e o grupo de tratamento.* \n",
    "    \n",
    "- **Quantas permutações eu devo fazer ?**\n",
    "    É um hyper parâmetro, vocÊ escolhe quantas vezes vai querer fazer o teste, 1000 vezes, 2000 vezes...   "
   ]
  },
  {
   "cell_type": "markdown",
   "id": "5dddeddb",
   "metadata": {
    "hidden": true
   },
   "source": [
    "Com essas diferêncas é possível montar um histograma."
   ]
  },
  {
   "cell_type": "code",
   "execution_count": 48,
   "id": "7140903e",
   "metadata": {
    "hidden": true
   },
   "outputs": [],
   "source": [
    "diff_1 = [permutation( df.Time, 21, 15 ) for _ in 1:1000];\n",
    "diff_2 = [permutation( df.Time, 21, 15 ) for _ in 1:5000];\n",
    "diff_3 = [permutation( df.Time, 21, 15 ) for _ in 1:10_000];"
   ]
  },
  {
   "cell_type": "code",
   "execution_count": 109,
   "id": "4595c545",
   "metadata": {
    "hidden": true
   },
   "outputs": [
    {
     "data": {
      "image/png": "[encoded data removed]",
      "text/plain": [
       "Figure(PyObject <Figure size 1500x400 with 3 Axes>)"
      ]
     },
     "metadata": {},
     "output_type": "display_data"
    }
   ],
   "source": [
    "plot_permutation(diff_1, diff_2, diff_3, mean_diff)"
   ]
  },
  {
   "cell_type": "markdown",
   "id": "9eac534b",
   "metadata": {
    "hidden": true
   },
   "source": [
    "Alguns valores dão maior que a média incial observada, mas oque isso significa ?<br>\n",
    "Essas médias maiores, é por causa da página ou por causa do efeito aleatório ?"
   ]
  },
  {
   "cell_type": "markdown",
   "id": "dad337e6",
   "metadata": {
    "hidden": true
   },
   "source": [
    "Lembra que escrevi as hipóteses antes e defini também o parâmetro $\\alpha$ que é com ele que vou medir se devo ou não aceitar a hipótese nula. Ou seja, vou assumir no máximo 5% dos testes foram ao acaso, e para calcular o p-valor final, basta:\n",
    "\n",
    "- Seleciona todos os valores que são *maiores ou igual a média originalmente calculada*\n",
    "- Com esses valores, calcula a média e compara com o $\\alpha$"
   ]
  },
  {
   "cell_type": "code",
   "execution_count": 121,
   "id": "21a74c9c",
   "metadata": {
    "hidden": true
   },
   "outputs": [],
   "source": [
    "p_valor_1 = (py\"test\"(diff_1, mean_diff));\n",
    "p_valor_2 = (py\"test\"(diff_2, mean_diff));\n",
    "p_valor_3 = (py\"test\"(diff_3, mean_diff));"
   ]
  },
  {
   "cell_type": "code",
   "execution_count": 128,
   "id": "128a830a",
   "metadata": {
    "hidden": true
   },
   "outputs": [
    {
     "name": "stdout",
     "output_type": "stream",
     "text": [
      "A quantidade de vezes que excedeu o limite foi de |  15.400%  | em 1000 Testes.\n",
      "A quantidade de vezes que excedeu o limite foi de |  15.680%  | em 5000 Testes.\n",
      "A quantidade de vezes que excedeu o limite foi de |  15.830%  | em 10000 Testes.\n"
     ]
    }
   ],
   "source": [
    "for k in zip([p_valor_1, p_valor_2, p_valor_3], [1000, 5000, 10000])\n",
    "    @printf \"A quantidade de vezes que excedeu o limite foi de |  %.3f%%  | em %d Testes.\\n\" k[1]*100 k[2]\n",
    "end"
   ]
  },
  {
   "cell_type": "markdown",
   "id": "ff9b3e64",
   "metadata": {
    "hidden": true
   },
   "source": [
    "**Conclusão**\n",
    "Logo rejeita-se a Hipótese Nula e aceita a Hipótene Alternativa por que não teve um efeito significante, pois os 15% são o efeito ao acaso e não o efeito das páginas.\n",
    "Em outras palavras, Não existem evidências estatísitcas o suficiente para afirmar que o tempo da página A é diferente do tempo da página B. \n",
    "\n",
    "Analogamente ao teste de permutação existe o teste T de Student, a diferênca é que no teste de permutação, existe a amostragem."
   ]
  },
  {
   "cell_type": "markdown",
   "id": "23a985dd",
   "metadata": {
    "heading_collapsed": true,
    "hidden": true
   },
   "source": [
    "### 3.2.2. Teste de permutação em taxas de conversão."
   ]
  },
  {
   "cell_type": "markdown",
   "id": "f27e0b8c",
   "metadata": {
    "hidden": true
   },
   "source": [
    "Nesse exemplo existe +20000 visualizações de um determinado preço e foi mensurado a quantidade de cliques em ambos os preços.<br>"
   ]
  },
  {
   "cell_type": "code",
   "execution_count": 141,
   "id": "8d20b790",
   "metadata": {
    "hidden": true
   },
   "outputs": [
    {
     "data": {
      "text/html": [
       "<div class=\"data-frame\"><p>2 rows × 3 columns</p><table class=\"data-frame\"><thead><tr><th></th><th>Cliques</th><th>No Cliques</th><th>Tipos</th></tr><tr><th></th><th title=\"Int64\">Int64</th><th title=\"Int64\">Int64</th><th title=\"String\">String</th></tr></thead><tbody><tr><th>1</th><td>200</td><td>23539</td><td>Preço A</td></tr><tr><th>2</th><td>182</td><td>22406</td><td>Preço B</td></tr></tbody></table></div>"
      ],
      "text/latex": [
       "\\begin{tabular}{r|ccc}\n",
       "\t& Cliques & No Cliques & Tipos\\\\\n",
       "\t\\hline\n",
       "\t& Int64 & Int64 & String\\\\\n",
       "\t\\hline\n",
       "\t1 & 200 & 23539 & Preço A \\\\\n",
       "\t2 & 182 & 22406 & Preço B \\\\\n",
       "\\end{tabular}\n"
      ],
      "text/plain": [
       "\u001b[1m2×3 DataFrame\u001b[0m\n",
       "\u001b[1m Row \u001b[0m│\u001b[1m Cliques \u001b[0m\u001b[1m No Cliques \u001b[0m\u001b[1m Tipos   \u001b[0m\n",
       "\u001b[1m     \u001b[0m│\u001b[90m Int64   \u001b[0m\u001b[90m Int64      \u001b[0m\u001b[90m String  \u001b[0m\n",
       "─────┼──────────────────────────────\n",
       "   1 │     200       23539  Preço A\n",
       "   2 │     182       22406  Preço B"
      ]
     },
     "execution_count": 141,
     "metadata": {},
     "output_type": "execute_result"
    }
   ],
   "source": [
    "DataFrame(Dict(\"Tipos\" => [\"Preço A\", \"Preço B\"], \"Cliques\" => [200, 182], \"No Cliques\" => [23539, 22406]))"
   ]
  },
  {
   "cell_type": "code",
   "execution_count": 142,
   "id": "d91f7573",
   "metadata": {
    "hidden": true
   },
   "outputs": [
    {
     "name": "stdout",
     "output_type": "stream",
     "text": [
      "A diferença do Preço A e do Preço B é: 0.037 pontos percentuais"
     ]
    }
   ],
   "source": [
    "obs_diff = ((200/(23539+200)) - (182/(22406+182)))*100\n",
    "@printf \"A diferença do Preço A e do Preço B é: %.3f pontos percentuais\" obs_diff"
   ]
  },
  {
   "cell_type": "markdown",
   "id": "32396947",
   "metadata": {
    "hidden": true
   },
   "source": [
    "Uma das formas de responder essa pergunta é realizando um teste de permutação para testar se a diferença das conversões entre os preços A e B esta dentro da taxa de variação do acaso.\n",
    "A pergunta é, \"se os dois preços compartilham a mesma taxa de conversão, a variação do acaso poderia produzir uma diferênça de 5% ?\"\n",
    "\n",
    "- Crie um vetor com todos os dados, ou seja, 45945 vezes foram realizados 0 cliques, logo um vetor com 45945 zeros, e um vetor com 382 que tiveram 1 clique, esse vetor vai ter um tamanho de 46327, contendo o total de zeros e o total de 1 cliques.\n",
    "- Realize o teste de permutação $n$ vezes."
   ]
  },
  {
   "cell_type": "code",
   "execution_count": 155,
   "id": "10724a19",
   "metadata": {
    "hidden": true
   },
   "outputs": [],
   "source": [
    "a = append!(vec(zeros(1, (45945))), vec(ones(1, 382)));\n",
    "diff_1 = [(permutation( a, 23739, 22588 )*100) for _ in 1:1_000 ];\n",
    "diff_2 = [(permutation( a, 23739, 22588 )*100) for _ in 1:5_000 ];\n",
    "diff_3 = [(permutation( a, 23739, 22588 )*100) for _ in 1:10_000 ];"
   ]
  },
  {
   "cell_type": "code",
   "execution_count": 156,
   "id": "ec7e72ab",
   "metadata": {
    "hidden": true
   },
   "outputs": [
    {
     "data": {
      "image/png": "[encoded data removed]",
      "text/plain": [
       "Figure(PyObject <Figure size 1500x400 with 3 Axes>)"
      ]
     },
     "metadata": {},
     "output_type": "display_data"
    }
   ],
   "source": [
    "plot_permutation(diff_1, diff_2, diff_3, obs_diff);"
   ]
  },
  {
   "cell_type": "markdown",
   "id": "b50adca6",
   "metadata": {
    "hidden": true
   },
   "source": [
    "Agora o cálculo do P-Valor para os 3 testes."
   ]
  },
  {
   "cell_type": "code",
   "execution_count": 157,
   "id": "2f06a042",
   "metadata": {
    "hidden": true
   },
   "outputs": [],
   "source": [
    "p_valor_1 = (py\"test\"(diff_1, obs_diff));\n",
    "p_valor_2 = (py\"test\"(diff_2, obs_diff));\n",
    "p_valor_3 = (py\"test\"(diff_3, obs_diff));"
   ]
  },
  {
   "cell_type": "code",
   "execution_count": 158,
   "id": "47b17299",
   "metadata": {
    "hidden": true
   },
   "outputs": [
    {
     "name": "stdout",
     "output_type": "stream",
     "text": [
      "A quantidade de vezes que excedeu o limite foi de |  34.700%  | em 1000 Testes.\n",
      "A quantidade de vezes que excedeu o limite foi de |  33.780%  | em 5000 Testes.\n",
      "A quantidade de vezes que excedeu o limite foi de |  34.250%  | em 10000 Testes.\n"
     ]
    }
   ],
   "source": [
    "for k in zip([p_valor_1, p_valor_2, p_valor_3], [1000, 5000, 10000])\n",
    "    @printf \"A quantidade de vezes que excedeu o limite foi de |  %.3f%%  | em %d Testes.\\n\" k[1]*100 k[2]\n",
    "end"
   ]
  },
  {
   "cell_type": "markdown",
   "id": "e84627ff",
   "metadata": {
    "hidden": true
   },
   "source": [
    "**Existe** outras formas para fazer uma comparação como essa que é com a tabela de frequencia com o chi2.\n",
    "\n",
    "Nessa tabela, as taxas são idependentes uma das outras e é possível ter uma frequência com que as taxas convertem na tabela de contingência."
   ]
  },
  {
   "cell_type": "code",
   "execution_count": 166,
   "id": "c71593c6",
   "metadata": {
    "hidden": true
   },
   "outputs": [
    {
     "name": "stdout",
     "output_type": "stream",
     "text": [
      "Chi2: 0.15\n",
      "P-Value: 0.70"
     ]
    }
   ],
   "source": [
    "# Outras formas\n",
    "chi2, p_value, df, _ = ss.chi2_contingency([[200, 23539], [182, 22406]])\n",
    "\n",
    "@printf \"Chi2: %.2f\\nP-Value: %.2f\" chi2 p_value"
   ]
  },
  {
   "cell_type": "code",
   "execution_count": 169,
   "id": "e76f24f7",
   "metadata": {
    "hidden": true
   },
   "outputs": [
    {
     "name": "stdout",
     "output_type": "stream",
     "text": [
      "P-Valor Unilateral 0.350"
     ]
    }
   ],
   "source": [
    "@printf \"P-Valor Unilateral %.3f\" p_value / 2"
   ]
  },
  {
   "cell_type": "markdown",
   "id": "731f511f",
   "metadata": {
    "hidden": true
   },
   "source": [
    "**Conclusão**\n",
    "\n",
    "Tanto o teste de permutação, quando o teste de chi2 unilateral é possível calcular o p-valor em uma tabela de frequência."
   ]
  },
  {
   "cell_type": "markdown",
   "id": "4a004caf",
   "metadata": {
    "heading_collapsed": true
   },
   "source": [
    "## 3.3. Teste T de Student"
   ]
  },
  {
   "cell_type": "markdown",
   "id": "99ad9611",
   "metadata": {
    "hidden": true
   },
   "source": [
    "O teste T de Student nada mais é que um teste de comparação de dois grupos em relação a sua média.<br>\n",
    "Nas quais os dados são numéricos (quantitativas)"
   ]
  },
  {
   "cell_type": "markdown",
   "id": "2b358875",
   "metadata": {
    "hidden": true
   },
   "source": [
    "Esse teste também é uma aproximação para o teste de permutação, devido que o teste de permutação na época de sua implementação era muito custoso.\n",
    "Para utilizar o teste t, é necessário alguns passos.\n",
    "- 1. Calcula a média de ambos os grupos.\n",
    "     - A diferença entre as duas médias é significativa? <br><br>\n",
    "- 2. Elevar os dados de ambos os grupos por exemplo o grupo $X$ e o grupo $Y$ e somar $\\sum{X^{2}}$, $\\sum{Y^{2}}$ os grupos ao quadrado.\n",
    "- 3. Calcula a variância de ambos os grupos (ou o std).\n",
    "- 4. Coloca na fórmula do teste t, com o resultado da fórmula, localiza na tabela da distribuição t.\n",
    "\n",
    "Obs: Existem várias formulas para a variância conhecida, não conhecida, amostras dependentes, idependentes e assim vai. "
   ]
  },
  {
   "cell_type": "markdown",
   "id": "ff98b819",
   "metadata": {
    "hidden": true
   },
   "source": [
    "**Exemplo de Fórmula**\n",
    "\n",
    "\n",
    "Para aplicar o teste t ou Welch's t-test, quando a variância populacional é desconhecida em amostras idependentes (Com ou sem o N-1):\n",
    "$$t_o = \\frac{\\bar{x_a} - \\bar{x_b}}{\\sqrt{\\frac{(n-1)s^{2}_1 + (n-1)s^{2}_2}{n_1 + n_2 - 2} \\cdot \\sqrt{\\frac{n_1 + n_2}{n_1 \\cdot n_2}}}}$$<br>\n",
    "Welch's T-Test: $$t' = \\frac{\\bar{x_a} - \\bar{x_b}}{\\sqrt{\\frac{s^{2}_1}{n_1} + \\frac{s^{2}_2}{n_2}}}$$"
   ]
  },
  {
   "cell_type": "markdown",
   "id": "17fb0d20",
   "metadata": {
    "hidden": true
   },
   "source": [
    "Essa fórmula é a mesma do $t_o$, logo retorna quase o mesmo resultado do método ttest_ind do scipy que esta armazenada em um script separado na pasta de scripts.<br>Esse resultado é a **Estatística T**, logo precisa calcular ou ir na tabela t-student com os graus de liberdade ($n_1 + n_2 - 2$) e o nível de significância.<br>Por exemplo se os graus de liberdade for 20 e o nível de significância for 0.05%."
   ]
  },
  {
   "cell_type": "code",
   "execution_count": 316,
   "id": "bd438df3",
   "metadata": {
    "hidden": true
   },
   "outputs": [
    {
     "name": "stdout",
     "output_type": "stream",
     "text": [
      "Estatística T, -1.0823"
     ]
    }
   ],
   "source": [
    "include(\"../scripts/t_test.jl\");\n",
    "@printf \"Estatística T: %.4f\" t_test( df[df.Page .== \"Page A\", 2], df[df.Page .== \"Page B\", 2], true )"
   ]
  },
  {
   "cell_type": "markdown",
   "id": "4d792f75",
   "metadata": {
    "hidden": true
   },
   "source": [
    "Para o cálculo usado no dia a dia.\n",
    "O Scipy geralmente faz os testes bicaldal, é necessário dividir por 2 para pegar um lado da distribuição quando o teste for unicaldal como no exemplo do teste de permutação."
   ]
  },
  {
   "cell_type": "code",
   "execution_count": 185,
   "id": "632c7cec",
   "metadata": {
    "hidden": true
   },
   "outputs": [
    {
     "name": "stdout",
     "output_type": "stream",
     "text": [
      "O P-Valor para a aproximação do T-Student em relação ao teste de permutação é: 0.1345"
     ]
    }
   ],
   "source": [
    "t_statistic, p_value = ss.ttest_ind(df[df.Page .== \"Page A\", 2], df[df.Page .== \"Page B\", 2]);\n",
    "\n",
    "@printf \"O P-Valor para a aproximação do T-Student em relação ao teste de permutação é: %.4f\" (p_value/2)"
   ]
  },
  {
   "cell_type": "code",
   "execution_count": 5,
   "id": "1fc6dccb",
   "metadata": {
    "hidden": true,
    "scrolled": false
   },
   "outputs": [
    {
     "data": {
      "image/png": "[encoded data removed]",
      "text/plain": [
       "Figure(PyObject <Figure size 700x500 with 1 Axes>)"
      ]
     },
     "metadata": {},
     "output_type": "display_data"
    }
   ],
   "source": [
    "plot_page_diff()"
   ]
  },
  {
   "cell_type": "markdown",
   "id": "f1d63744",
   "metadata": {
    "hidden": true
   },
   "source": [
    "**Outros testes**"
   ]
  },
  {
   "cell_type": "code",
   "execution_count": 184,
   "id": "10ca1d49",
   "metadata": {
    "cell_style": "split",
    "hidden": true
   },
   "outputs": [
    {
     "name": "stdout",
     "output_type": "stream",
     "text": [
      "P-Value One Sided 0.135\n",
      "T-Statistic: -1.124\n",
      "\n",
      "P-Value Two Sided 0.269\n",
      "T-Statistic: -1.124\n"
     ]
    }
   ],
   "source": [
    "info = pages()\n",
    "list = [\"less\", \"two-sided\"]\n",
    "\n",
    "for i in list\n",
    "    t_test_ss = ss.ttest_ind( df[df.Page .== \"Page A\", 2], df[df.Page .== \"Page B\", 2], alternative=i )\n",
    "    if i == \"less\"\n",
    "        @printf \"P-Value One Sided %.3f\\n\" t_test_ss[2]\n",
    "        @printf \"T-Statistic: %.3f\\n\" t_test_ss[1]\n",
    "    else\n",
    "        @printf \"\\nP-Value Two Sided %.3f\\n\" t_test_ss[2]\n",
    "        @printf \"T-Statistic: %.3f\\n\" t_test_ss[1]\n",
    "    end\n",
    "end"
   ]
  },
  {
   "cell_type": "code",
   "execution_count": 181,
   "id": "123c5552",
   "metadata": {
    "cell_style": "split",
    "hidden": true
   },
   "outputs": [
    {
     "name": "stdout",
     "output_type": "stream",
     "text": [
      "Glass ◭: -0.4131\n",
      "Cohen's d: -0.3869\n",
      "Hedge's g: -0.3761"
     ]
    }
   ],
   "source": [
    "gl = glass_delt( info[\"mean_a\"], info[\"mean_b\"], info[\"std_a\"] )\n",
    "#r  = pearson_r( t_test_ss[1], 34 )\n",
    "d  = cohen_d( info[\"mean_a\"], info[\"mean_b\"], info[\"std_a\"], info[\"std_b\"] )\n",
    "g  = hedge_g( d, info[\"n_a\"], info[\"n_b\"] )\n",
    "\n",
    "@printf \"Glass ◭: %.4f\" gl\n",
    "#@printf \"\\nPearson ρ: %.4f\" r\n",
    "@printf \"\\nCohen's d: %.4f\" d\n",
    "@printf \"\\nHedge's g: %.4f\" g"
   ]
  },
  {
   "cell_type": "markdown",
   "id": "f4c8a8be",
   "metadata": {
    "hidden": true
   },
   "source": [
    " - **Glass** ◭: É a diferença média entre os dois grupos dividido pelo desvio padrão do grupo controle.\n",
    " - **Pearson** ρ: Pearson / Rosenthal serve para calcular a correlação utilizando o P Value e os Graus de Liberdade.\n",
    " - **Cohen's** d: Diferença das médias, é uma formula do \"tamanho do efeito\", que resumidamente mede o tamanho das associações entre as variáveis ou da diferença entre as médias dos grupos.\n",
    " - **Hedge's** g: Correção do D de Cohen."
   ]
  },
  {
   "cell_type": "markdown",
   "id": "885e6b0b",
   "metadata": {
    "hidden": true
   },
   "source": [
    "Glass: $gl = \\frac{\\bar{x}_1 + \\bar{x}_2}{Sd_1}$ <br><br>\n",
    "Pearson: $r = \\sqrt{\\frac{t^{2}}{t^{2} + df}}$ <br><br>\n",
    "Cohen's d: $d = \\frac{\\bar{x}_1 - \\bar{x}_2}{\\sqrt{\\frac{sd_1^{2} - sd_2^{2}}{2}}}$ <br><br>\n",
    "Hedge's g: $g = d \\cdot 1 - \\frac{3}{4 \\cdot (n_1 + n_2 - 9)} $"
   ]
  },
  {
   "cell_type": "markdown",
   "id": "ce7443fe",
   "metadata": {},
   "source": [
    "## 3.4. Teste de Qui Quadrado"
   ]
  },
  {
   "cell_type": "markdown",
   "id": "a3ee79d1",
   "metadata": {},
   "source": [
    "Esse teste de hipótese pode ser utilizado em intervalos, o uso mais comum é em tabelas de contingência também chamadas de tabelas de frequência, onde existem variáveis qualitativas ou quantitativas que na maioria das vezes não possuem uma ordem, por exemplo, das pessoas que não fazem exercícios e das pessoas que fazem exercícios, quantas delas tem um sono bom e quantas tem um sono ruim?<br>A distribuição qui quadrado é determinado pelos graus de liberdade que esta relacionado ao número de colunas na Tabela.<br>\n",
    " - Se a frequência estiver entre 5 e 10, é necessário uma correção chamada correção de Yates. "
   ]
  },
  {
   "cell_type": "markdown",
   "id": "a2f946f2",
   "metadata": {},
   "source": [
    "Passos para montar um teste de qui quadrado<br>\n",
    "1. Calcular o valor esperado em relação ao teste\n",
    "    - O exemplo do Livro é a média dos cliques e não cliques.<br><br>\n",
    "2. Calcular os residuos de Pearson (X_observado e X_esperado).\n",
    "$R = \\frac{X_o - X_e}{\\sqrt{X_e}} $ que retorna as contagens diferentes.<br><br>\n",
    "3. Calcular a estatística de qui quadrado.\n",
    "$\\xi =  \\sum_{i}^{r}\\sum_{j}^{c}R^{2}$<br><br>\n",
    "4. Calcular o grau de liberdade que é $gl = k - 1$ onde k é o n° de categorias.\n",
    "Exemplo do Livro em três Headlines (Teste A, B, C)<br>"
   ]
  },
  {
   "cell_type": "code",
   "execution_count": 194,
   "id": "1a5a17c3",
   "metadata": {},
   "outputs": [
    {
     "data": {
      "text/html": [
       "<div class=\"data-frame\"><p>3 rows × 3 columns</p><table class=\"data-frame\"><thead><tr><th></th><th>Click</th><th>NoClick</th><th>Teste</th></tr><tr><th></th><th title=\"Int64\">Int64</th><th title=\"Int64\">Int64</th><th title=\"String\">String</th></tr></thead><tbody><tr><th>1</th><td>14</td><td>986</td><td>Headline A</td></tr><tr><th>2</th><td>8</td><td>992</td><td>Headline B</td></tr><tr><th>3</th><td>12</td><td>988</td><td>Headline C</td></tr></tbody></table></div>"
      ],
      "text/latex": [
       "\\begin{tabular}{r|ccc}\n",
       "\t& Click & NoClick & Teste\\\\\n",
       "\t\\hline\n",
       "\t& Int64 & Int64 & String\\\\\n",
       "\t\\hline\n",
       "\t1 & 14 & 986 & Headline A \\\\\n",
       "\t2 & 8 & 992 & Headline B \\\\\n",
       "\t3 & 12 & 988 & Headline C \\\\\n",
       "\\end{tabular}\n"
      ],
      "text/plain": [
       "\u001b[1m3×3 DataFrame\u001b[0m\n",
       "\u001b[1m Row \u001b[0m│\u001b[1m Click \u001b[0m\u001b[1m NoClick \u001b[0m\u001b[1m Teste      \u001b[0m\n",
       "\u001b[1m     \u001b[0m│\u001b[90m Int64 \u001b[0m\u001b[90m Int64   \u001b[0m\u001b[90m String     \u001b[0m\n",
       "─────┼────────────────────────────\n",
       "   1 │    14      986  Headline A\n",
       "   2 │     8      992  Headline B\n",
       "   3 │    12      988  Headline C"
      ]
     },
     "execution_count": 194,
     "metadata": {},
     "output_type": "execute_result"
    }
   ],
   "source": [
    "df = DataFrame(Dict(\"Teste\" => [\"Headline A\", \"Headline B\", \"Headline C\"], \"Click\" => [14, 8, 12], \"NoClick\" => [986, 992, 988]))"
   ]
  },
  {
   "cell_type": "code",
   "execution_count": 283,
   "id": "bc2e2536",
   "metadata": {},
   "outputs": [
    {
     "name": "stdout",
     "output_type": "stream",
     "text": [
      "Valores Esperados: \n",
      "  Média de Cliques: 11.3333\n",
      "  Média de Não Cliques C: 988.6667"
     ]
    }
   ],
   "source": [
    "@printf \"Valores Esperados: \\n  Média de Cliques: %.4f\\n  Média de Não Cliques C: %.4f\" ((14+8+12)/3) ((986+992+988)/3)"
   ]
  },
  {
   "cell_type": "markdown",
   "id": "5a917c92",
   "metadata": {},
   "source": [
    "Logo com essa tabela em porcentágem com o resultado do P valor você consegue chegar em uma análise mais precisa que pode ser reportada, por exemplo a coluna x é tantos porcento melhor que a coluna y."
   ]
  },
  {
   "cell_type": "markdown",
   "id": "335b421e",
   "metadata": {},
   "source": [
    "Tabela já com o cálculo dos resíduos de pearson: "
   ]
  },
  {
   "cell_type": "code",
   "execution_count": 664,
   "id": "427584b8",
   "metadata": {},
   "outputs": [
    {
     "data": {
      "text/html": [
       "<div class=\"data-frame\"><p>3 rows × 3 columns</p><table class=\"data-frame\"><thead><tr><th></th><th>Click</th><th>NoClick</th><th>Teste</th></tr><tr><th></th><th title=\"Float64\">Float64</th><th title=\"Float64\">Float64</th><th title=\"String\">String</th></tr></thead><tbody><tr><th>1</th><td>0.792</td><td>-0.084</td><td>Headline A</td></tr><tr><th>2</th><td>-0.99</td><td>0.106</td><td>Headline B</td></tr><tr><th>3</th><td>0.198</td><td>-0.021</td><td>Headline C</td></tr></tbody></table></div>"
      ],
      "text/latex": [
       "\\begin{tabular}{r|ccc}\n",
       "\t& Click & NoClick & Teste\\\\\n",
       "\t\\hline\n",
       "\t& Float64 & Float64 & String\\\\\n",
       "\t\\hline\n",
       "\t1 & 0.792 & -0.084 & Headline A \\\\\n",
       "\t2 & -0.99 & 0.106 & Headline B \\\\\n",
       "\t3 & 0.198 & -0.021 & Headline C \\\\\n",
       "\\end{tabular}\n"
      ],
      "text/plain": [
       "\u001b[1m3×3 DataFrame\u001b[0m\n",
       "\u001b[1m Row \u001b[0m│\u001b[1m Click   \u001b[0m\u001b[1m NoClick \u001b[0m\u001b[1m Teste      \u001b[0m\n",
       "\u001b[1m     \u001b[0m│\u001b[90m Float64 \u001b[0m\u001b[90m Float64 \u001b[0m\u001b[90m String     \u001b[0m\n",
       "─────┼──────────────────────────────\n",
       "   1 │   0.792   -0.084  Headline A\n",
       "   2 │  -0.99     0.106  Headline B\n",
       "   3 │   0.198   -0.021  Headline C"
      ]
     },
     "execution_count": 664,
     "metadata": {},
     "output_type": "execute_result"
    }
   ],
   "source": [
    "df = DataFrame(Dict(\"Teste\" => [\"Headline A\", \"Headline B\", \"Headline C\"], \"Click\" => [0.792, -0.990, 0.198], \"NoClick\" => [-0.084, 0.106, -0.021]))"
   ]
  },
  {
   "cell_type": "markdown",
   "id": "0296e3fc",
   "metadata": {},
   "source": [
    "Mesma lógica do teste T, tem que ir na tabela da distribuição qui quadrado com os graus de liberdade que são 2 e localizar o valor mais proximo de 1.66, que esta entre 0.50 na tabela.<br>Mas existem já softwares que fazem esse cálculo automaticamente retornando já os resultados, por isso você não precisa decorar ou saber fórmulas, basta entender e onde aplicar esses testes estatísticos."
   ]
  },
  {
   "cell_type": "code",
   "execution_count": 300,
   "id": "f2db5b3a",
   "metadata": {},
   "outputs": [
    {
     "name": "stdout",
     "output_type": "stream",
     "text": [
      "Estatística de Chi Quadrado: 1.665"
     ]
    }
   ],
   "source": [
    "@printf \"Estatística de Chi Quadrado: %.3f\" sum(df.Click.^2)+sum(df.NoClick.^2)"
   ]
  },
  {
   "cell_type": "markdown",
   "id": "576ca6a9",
   "metadata": {},
   "source": [
    "E no dia a dia, basta usar o próprio **chi2_contingency** que ira fazer os mesmos calculos."
   ]
  },
  {
   "cell_type": "code",
   "execution_count": 35,
   "id": "9f4fcb2e",
   "metadata": {},
   "outputs": [
    {
     "name": "stdout",
     "output_type": "stream",
     "text": [
      "Chi2: 1.666\n",
      "P-Valor 0.435\n"
     ]
    }
   ],
   "source": [
    "chi2, p, _, expected = ss.chi2_contingency([[14, 8, 12], [986, 992, 988]])\n",
    "\n",
    "@printf \"Chi2: %.3f\\nP-Valor %.3f\\n\" chi2 p"
   ]
  },
  {
   "cell_type": "code",
   "execution_count": 216,
   "id": "f4497df2",
   "metadata": {},
   "outputs": [
    {
     "data": {
      "text/html": [
       "<div class=\"data-frame\"><p>2 rows × 3 columns</p><table class=\"data-frame\"><thead><tr><th></th><th>Head A</th><th>Head B</th><th>Head C</th></tr><tr><th></th><th title=\"Float64\">Float64</th><th title=\"Float64\">Float64</th><th title=\"Float64\">Float64</th></tr></thead><tbody><tr><th>1</th><td>11.3333</td><td>11.3333</td><td>11.3333</td></tr><tr><th>2</th><td>988.667</td><td>988.667</td><td>988.667</td></tr></tbody></table></div>"
      ],
      "text/latex": [
       "\\begin{tabular}{r|ccc}\n",
       "\t& Head A & Head B & Head C\\\\\n",
       "\t\\hline\n",
       "\t& Float64 & Float64 & Float64\\\\\n",
       "\t\\hline\n",
       "\t1 & 11.3333 & 11.3333 & 11.3333 \\\\\n",
       "\t2 & 988.667 & 988.667 & 988.667 \\\\\n",
       "\\end{tabular}\n"
      ],
      "text/plain": [
       "\u001b[1m2×3 DataFrame\u001b[0m\n",
       "\u001b[1m Row \u001b[0m│\u001b[1m Head A   \u001b[0m\u001b[1m Head B   \u001b[0m\u001b[1m Head C   \u001b[0m\n",
       "\u001b[1m     \u001b[0m│\u001b[90m Float64  \u001b[0m\u001b[90m Float64  \u001b[0m\u001b[90m Float64  \u001b[0m\n",
       "─────┼──────────────────────────────\n",
       "   1 │  11.3333   11.3333   11.3333\n",
       "   2 │ 988.667   988.667   988.667"
      ]
     },
     "execution_count": 216,
     "metadata": {},
     "output_type": "execute_result"
    }
   ],
   "source": [
    "rename!(DataFrame(expected, :auto), [\"Head A\", \"Head B\", \"Head C\"])"
   ]
  },
  {
   "cell_type": "markdown",
   "id": "838de362",
   "metadata": {},
   "source": [
    "Uma forma gráfica de analisar um teste de chi quadrado é usando o grafico de barras agrupados, onde metade de uma barra é uma porcentagem e a outra metade é a outra porcentagem da tabela de frequência das variáveis."
   ]
  },
  {
   "cell_type": "markdown",
   "id": "a9b08e0c",
   "metadata": {
    "heading_collapsed": true
   },
   "source": [
    "### 3.4.1. Teste Qui Quadrado com permutação "
   ]
  },
  {
   "cell_type": "markdown",
   "id": "d28aca8f",
   "metadata": {
    "hidden": true
   },
   "source": [
    "A permutação do teste de chi-sq é a mesma lógcia do teste de permutação e da f-statistic."
   ]
  },
  {
   "cell_type": "markdown",
   "id": "b1a506ce",
   "metadata": {
    "hidden": true
   },
   "source": [
    "1. Construa um vetor com os dados do teste (34 clicks e 2966 não clicks)\n",
    "2. Embaralhe e pegue três amostras separadas de 1.000 valores e conte quantos clickes conseguiu.\n",
    "3. Calcule o R entre as amostras e os dados esperados.\n",
    "4. Repita o passo 2 e 3 n vezes.\n",
    "5. Quantas vezes os valores do processo de reamostragem são maiores que os valores observados? "
   ]
  },
  {
   "cell_type": "code",
   "execution_count": 41,
   "id": "f4c3b463",
   "metadata": {
    "hidden": true
   },
   "outputs": [
    {
     "name": "stdout",
     "output_type": "stream",
     "text": [
      "Chi2 Observado: 1.6659\n",
      "Reamostragem P-Valor: 0.2355\n",
      "\n",
      "Chi2 Observado: 1.6659\n",
      "Scipy P-Valor: 0.4348"
     ]
    }
   ],
   "source": [
    "@printf \"Chi2 Observado: %.4f\\nReamostragem P-Valor: %.4f\" chi2obs p_perm\n",
    "@printf \"\\n\\nChi2 Observado: %.4f\\nScipy P-Valor: %.4f\" chi2 p"
   ]
  },
  {
   "cell_type": "markdown",
   "id": "d4ed88f2",
   "metadata": {
    "heading_collapsed": true
   },
   "source": [
    "## 3.5. Teste Exato de Fisher"
   ]
  },
  {
   "cell_type": "markdown",
   "id": "54120f05",
   "metadata": {
    "hidden": true
   },
   "source": [
    "Resumidamente é uma opção do teste de chi quadrado onde realmente tenta ser o mais exato posssível e determinar exatamente o quão extremo é o resultado calculando não apenas uma probabilidade, mas todas as probabilidades.<br>Exemplo, se quatro pessoas compraram a camiseta azul e uma pessoa comprou a camiseta vermelha, sabendo que no estoque tem $n$ cores, qual é a probabilidade de sair uma camiseta vermelha por primeiro e quatro camisetas azuis nas proximas quatro compras, qual é a probabilidade de uma camiseta azul, uma vermelha e três azuis... ou seja, qual é a probabilidade de todas as ordens das compras dessas cinco camisetas.\n",
    "\n",
    "Exemplo do Livro, no Python o método fisher_exact aceita somente uma matriz 2x2."
   ]
  },
  {
   "cell_type": "code",
   "execution_count": 490,
   "id": "929c28a2",
   "metadata": {
    "hidden": true
   },
   "outputs": [
    {
     "data": {
      "text/plain": [
       "3-element Vector{Tuple{Float64, Float64}}:\n",
       " (1.1690331304935768, 0.8440019335625599)\n",
       " (1.7606490872210954, 0.28359694839847466)\n",
       " (0.6639784946236559, 0.5012686435809882)"
      ]
     },
     "execution_count": 490,
     "metadata": {},
     "output_type": "execute_result"
    }
   ],
   "source": [
    "list = [[[14, 12] [986, 988]],\n",
    "        [[14, 8] [986, 992]],\n",
    "        [[8, 12] [992, 988]]];\n",
    "\n",
    "[ss.stats.fisher_exact(k) for k in list]"
   ]
  },
  {
   "cell_type": "markdown",
   "id": "afce13a9",
   "metadata": {
    "hidden": true
   },
   "source": [
    "1. Indicado para ser utilizado quando as amostras são pequenas (Menor que 5)."
   ]
  },
  {
   "cell_type": "markdown",
   "id": "95c49181",
   "metadata": {
    "heading_collapsed": true
   },
   "source": [
    "## 3.6. Teste ANOVA"
   ]
  },
  {
   "cell_type": "markdown",
   "id": "8ec891e6",
   "metadata": {
    "hidden": true
   },
   "source": [
    "Também chamada de análise de variância, serve para comparar a média entre três ou mais grupos, por exemplo o test t é para dois grupos, logo se estiver trabalhando com mais grupo e esses grupos tenham uma variância diferente, a anova é o recomendado.<br>\n",
    "Alguns requisitos para a o teste da Anova:<br>\n",
    "1. Amostras Idependentes.\n",
    "2. A distribuição tem que ser normal.\n",
    "3. Quando a variavel dependente é quantitativa.\n",
    "4. Caso o p-valor for <= $\\alpha$ teve um efeito entre as $n$ médias, mas o teste aponta que pelo menos um dos grupos teve uma diferença, não aponta qual grupo teve uma diferança, logo é necessário uma continuação dos testes de hipóteses como o Tukey ou multiplos testes t.\n",
    "5. Para evitar futuros erros, existem algumas correções para o teste ANOVA como a correção de Bonferroni e a correção de Sídak.\n",
    "\n",
    "- **Variação entre grupos**: Avaliação dos dados em relação a média da amostra.\n",
    "- **Variação dentro dos grupos**: Avaliando os dados em relação a média dos vários grupos.\n",
    "\n",
    "Outros Testes:<br>\n",
    " - Kruskal-Wallis É um teste não paramétrico (N requer presupostos que a distribuição é Normal), logo requer um teste de normalidade antes como o QQ Plot ou o Shapiro para ver se você deve utilizar o anova ou o kruskal.\n",
    " - Teste U de Mann-Whitney um teste parecido com as mesmas especificaçãoes dos outros, porém pode ser utilizado com um tensor.\n",
    " - Bonferroni e Sindak são correções para os testes da Anova."
   ]
  },
  {
   "cell_type": "code",
   "execution_count": 4,
   "id": "0a40a5a6",
   "metadata": {
    "hidden": true
   },
   "outputs": [],
   "source": [
    "rg1 = np.arange(-5, 5, 0.1)\n",
    "rg2 = np.arange(-7, 3, 0.1)\n",
    "rg3 = np.arange(-6, 4, 0.1)\n",
    "rg4 = np.arange(-3, 7, 0.1)\n",
    "rg5 = np.arange(-10, 0, 0.1);"
   ]
  },
  {
   "cell_type": "markdown",
   "id": "27a62634",
   "metadata": {
    "hidden": true
   },
   "source": [
    "Quatro distribuições ipotéticas para o exemplo.\n",
    "1. Essas distribuições seguem uma normal, logo é possível utilizar o ANOVA."
   ]
  },
  {
   "cell_type": "code",
   "execution_count": 52,
   "id": "4417d14c",
   "metadata": {
    "hidden": true
   },
   "outputs": [
    {
     "data": {
      "image/png": "[encoded data removed]",
      "text/plain": [
       "Figure(PyObject <Figure size 700x400 with 1 Axes>)"
      ]
     },
     "metadata": {},
     "output_type": "display_data"
    }
   ],
   "source": [
    "plot_normal_plus( rg1, rg2, rg3, rg4, rg5 );"
   ]
  },
  {
   "cell_type": "markdown",
   "id": "ddd974c4",
   "metadata": {
    "hidden": true
   },
   "source": [
    "Nesse exemplo acima, visualmente a amostra representada pela distribuição em azul, parece ter dados não tão importantes quanto por exemplo a distribuição em azul marinho em relação a todos os dados. (não é 100% uma normal por que possui uma kurtosis positiva, mas deu de entender haha)"
   ]
  },
  {
   "cell_type": "markdown",
   "id": "59ad8df5",
   "metadata": {
    "hidden": true
   },
   "source": [
    "$H_o$ **= Não há diferenças estatisticamente significantes entre as médias dos grupos.**<br>\n",
    "$H_a$ **= As médias dos grupos são diferentes.**<br>\n",
    "$\\alpha$ **= 0.05**"
   ]
  },
  {
   "cell_type": "markdown",
   "id": "b57729c6",
   "metadata": {
    "hidden": true
   },
   "source": [
    "Antes de realizar o teste anova, é importante checar se as distribuições são normais, existem várias técnicas de fazer essa análise, como o qq plot, shapiro, etc, eu ja mostrei o QQ-plot, então vou mostrar o teste de shapiro com o Scipe."
   ]
  },
  {
   "cell_type": "code",
   "execution_count": 20,
   "id": "c4ca02d9",
   "metadata": {
    "hidden": true
   },
   "outputs": [
    {
     "name": "stdout",
     "output_type": "stream",
     "text": [
      "A Distribuição dos dados acima NÃO seguem uma distribuição normal, com um p-valor de: 0.0301"
     ]
    }
   ],
   "source": [
    "_, p = ss.shapiro( [99 77 83 98 43 86 83 95 94 50] )\n",
    "@printf \"A Distribuição dos dados acima NÃO seguem uma distribuição normal, com um p-valor de: %.4f\" p"
   ]
  },
  {
   "cell_type": "code",
   "execution_count": 21,
   "id": "4eeb50fb",
   "metadata": {
    "hidden": true
   },
   "outputs": [],
   "source": [
    "df = DataFrame(CSV.File(\"../data/four_sessions.csv\"))\n",
    "#df1 = pd.read_csv(\"data/four_sessions.csv\");"
   ]
  },
  {
   "cell_type": "code",
   "execution_count": 13,
   "id": "d2b57b96",
   "metadata": {
    "hidden": true
   },
   "outputs": [
    {
     "data": {
      "image/png": "[encoded data removed]",
      "text/plain": [
       "Figure(PyObject <Figure size 640x480 with 1 Axes>)"
      ]
     },
     "metadata": {},
     "output_type": "display_data"
    }
   ],
   "source": [
    "sns.boxplot( df.Page, df.Time );"
   ]
  },
  {
   "cell_type": "markdown",
   "id": "a9271d0b",
   "metadata": {
    "hidden": true
   },
   "source": [
    "Antes vamos analisar se realmente as distribuições são normais com o teste de shapiro."
   ]
  },
  {
   "cell_type": "code",
   "execution_count": 56,
   "id": "78bac919",
   "metadata": {
    "hidden": true
   },
   "outputs": [
    {
     "name": "stdout",
     "output_type": "stream",
     "text": [
      "Seguindo o teste de Shapiro para as distribuições\n",
      "Pagina: 1 -> P-Valor: 0.8732\n",
      "Pagina: 2 -> P-Valor: 0.6350\n",
      "Pagina: 3 -> P-Valor: 0.5653\n",
      "Pagina: 4 -> P-Valor: 0.3299"
     ]
    }
   ],
   "source": [
    "@printf \"Seguindo o teste de Shapiro para as distribuições\"\n",
    "for i in collect(1:4)\n",
    "    @printf \"\\nPagina: %g -> P-Valor: %.4f\" i ( ss.shapiro( df[df.Page .== \"Page \" * string(i), 2] ) )[2]\n",
    "end"
   ]
  },
  {
   "cell_type": "markdown",
   "id": "11403dcc",
   "metadata": {
    "hidden": true
   },
   "source": [
    "Logo as distribuições são próximas de uma distribuição normal para as páginas."
   ]
  },
  {
   "cell_type": "code",
   "execution_count": 290,
   "id": "b1effc47",
   "metadata": {
    "hidden": true
   },
   "outputs": [
    {
     "name": "stdout",
     "output_type": "stream",
     "text": [
      "Estatística F: 2.7398\n",
      "P-Valor: 0.0776"
     ]
    }
   ],
   "source": [
    "f_stats, p_value = ss.f_oneway( df[df.Page .== \"Page 1\", 2], df[df.Page .== \"Page 2\", 2], df[df.Page .== \"Page 3\", 2], df[df.Page .== \"Page 4\", 2] )\n",
    "@printf \"Estatística F: %.4f\\nP-Valor: %.4f\" f_stats p_value"
   ]
  },
  {
   "cell_type": "markdown",
   "id": "bc29c65b",
   "metadata": {
    "heading_collapsed": true,
    "hidden": true
   },
   "source": [
    "### 3.6.1. Teste Kruskal - Wallis"
   ]
  },
  {
   "cell_type": "markdown",
   "id": "9d9225e4",
   "metadata": {
    "hidden": true
   },
   "source": [
    "Para um exemplo que não tem uma Distribuição Normal, utiliza-se o teste de Kruskal, **porém**, caso caso você tenha uma amostra muito maior que +/- 30 linhas no dataset, a distribuição ja vai estar mais parecida com uma normal, e ambos os testes de anova e kruskal vão dar parecidos.  "
   ]
  },
  {
   "cell_type": "code",
   "execution_count": 136,
   "id": "495e4e31",
   "metadata": {
    "hidden": true
   },
   "outputs": [],
   "source": [
    "a = [floor(np.random.uniform( 20, 100 )) for _ in collect(0:39)]\n",
    "b = [floor(np.random.uniform( 20, 100 )) for _ in collect(0:39)]\n",
    "c = [floor(np.random.uniform( 20, 100 )) for _ in collect(0:39)]\n",
    "df = [a, b, c];"
   ]
  },
  {
   "cell_type": "code",
   "execution_count": 138,
   "id": "184c8b8a",
   "metadata": {
    "hidden": true
   },
   "outputs": [
    {
     "data": {
      "image/png": "[encoded data removed]",
      "text/plain": [
       "Figure(PyObject <Figure size 1000x300 with 3 Axes>)"
      ]
     },
     "metadata": {},
     "output_type": "display_data"
    },
    {
     "name": "stdout",
     "output_type": "stream",
     "text": [
      "P Value para o Shapiro da Distb: a -> P-Valor: 0.0190\n",
      "P Value para o Shapiro da Distb: b -> P-Valor: 0.0266\n",
      "P Value para o Shapiro da Distb: c -> P-Valor: 0.0286\n"
     ]
    }
   ],
   "source": [
    "fig, ax = plt.subplots( 1, 3, figsize=(10, 3) )\n",
    "for i in zip( collect(1:3), [\"a\", \"b\", \"c\"] )\n",
    "    ax[i[1]].hist( df[i[1]], histtype=\"step\", color=\"b\", linewidth=2);\n",
    "    ax[i[1]].set_title(\"Random Uniform \" * i[2])\n",
    "    @printf \"P Value para o Shapiro da Distb: %s -> P-Valor: %.4f\\n\" i[2] ss.shapiro( df[i[1]] )[2]\n",
    "end"
   ]
  },
  {
   "cell_type": "markdown",
   "id": "8d03fd82",
   "metadata": {
    "hidden": true
   },
   "source": [
    "Logo o teste Kruskal para a análise de variância das três ou mais distribuições que não são normais."
   ]
  },
  {
   "cell_type": "code",
   "execution_count": 146,
   "id": "75cd0c5c",
   "metadata": {
    "hidden": true
   },
   "outputs": [
    {
     "name": "stdout",
     "output_type": "stream",
     "text": [
      "Estatística F: 2.9243\n",
      "P-Valor: 0.2317"
     ]
    }
   ],
   "source": [
    "f_stats, p_value = ss.kruskal( df[1], df[2], df[3] )\n",
    "@printf \"Estatística F: %.4f\\nP-Valor: %.4f\" f_stats p_value"
   ]
  },
  {
   "cell_type": "code",
   "execution_count": 148,
   "id": "f13f73e7",
   "metadata": {
    "hidden": true
   },
   "outputs": [
    {
     "name": "stdout",
     "output_type": "stream",
     "text": [
      "Estatística F: 2.9243\n",
      "P-Valor: 0.2317"
     ]
    }
   ],
   "source": [
    "# Existe no mesmo pacote outra forma de rodar a função do Kruskal\n",
    "f_stats, p_value = ss.mstats.kruskalwallis( df[1], df[2], df[3] )\n",
    "@printf \"Estatística F: %.4f\\nP-Valor: %.4f\" f_stats p_value"
   ]
  },
  {
   "cell_type": "markdown",
   "id": "a9e3d574",
   "metadata": {
    "heading_collapsed": true,
    "hidden": true
   },
   "source": [
    "### 3.6.2. Anova no Statsmodels"
   ]
  },
  {
   "cell_type": "markdown",
   "id": "f24ae8fc",
   "metadata": {
    "hidden": true
   },
   "source": [
    "No Statsmodels você desenha a matriz para o ordinary least-square regressor com as formulas.\n",
    " - Nesse exemplo é um teste unicaldal com o mesmo p valor do scipy e so funciona com um dataframe do pandas."
   ]
  },
  {
   "cell_type": "code",
   "execution_count": 293,
   "id": "2349c4ec",
   "metadata": {
    "hidden": true
   },
   "outputs": [
    {
     "data": {
      "text/html": [
       "<div>\n",
       "<style scoped>\n",
       "    .dataframe tbody tr th:only-of-type {\n",
       "        vertical-align: middle;\n",
       "    }\n",
       "\n",
       "    .dataframe tbody tr th {\n",
       "        vertical-align: top;\n",
       "    }\n",
       "\n",
       "    .dataframe thead th {\n",
       "        text-align: right;\n",
       "    }\n",
       "</style>\n",
       "<table border=\"1\" class=\"dataframe\">\n",
       "  <thead>\n",
       "    <tr style=\"text-align: right;\">\n",
       "      <th></th>\n",
       "      <th>sum_sq</th>\n",
       "      <th>df</th>\n",
       "      <th>F</th>\n",
       "      <th>PR(&gt;F)</th>\n",
       "    </tr>\n",
       "  </thead>\n",
       "  <tbody>\n",
       "    <tr>\n",
       "      <th>Page</th>\n",
       "      <td>831.4</td>\n",
       "      <td>3.0</td>\n",
       "      <td>2.739825</td>\n",
       "      <td>0.077586</td>\n",
       "    </tr>\n",
       "    <tr>\n",
       "      <th>Residual</th>\n",
       "      <td>1618.4</td>\n",
       "      <td>16.0</td>\n",
       "      <td>NaN</td>\n",
       "      <td>NaN</td>\n",
       "    </tr>\n",
       "  </tbody>\n",
       "</table>\n",
       "</div>"
      ],
      "text/plain": [
       "PyObject           sum_sq    df         F    PR(>F)\n",
       "Page       831.4   3.0  2.739825  0.077586\n",
       "Residual  1618.4  16.0       NaN       NaN"
      ]
     },
     "execution_count": 293,
     "metadata": {},
     "output_type": "execute_result"
    }
   ],
   "source": [
    "py\"anova\"(df1, 2, \"F\", \"Time ~ Page\")"
   ]
  },
  {
   "cell_type": "markdown",
   "id": "f6ddc29e",
   "metadata": {
    "hidden": true
   },
   "source": [
    "Ok, você fez todos esses testes, mas qual dos grupos realmente é diferente logo que o p-valor foi pequeno?"
   ]
  },
  {
   "cell_type": "code",
   "execution_count": 362,
   "id": "f8136bce",
   "metadata": {
    "hidden": true
   },
   "outputs": [],
   "source": [
    "list = [df[df.Page .== \"Page 1\", 2], df[df.Page .== \"Page 2\", 2], df[df.Page .== \"Page 3\", 2], df[df.Page .== \"Page 4\", 2]];\n",
    "pg = [\"Page 1\", \"Page 2\", \"Page 3\", \"Page 4\"];"
   ]
  },
  {
   "cell_type": "code",
   "execution_count": 369,
   "id": "e404d266",
   "metadata": {
    "hidden": true
   },
   "outputs": [
    {
     "name": "stdout",
     "output_type": "stream",
     "text": [
      "\n",
      "Page 1 - Page 1\n",
      "(0.0, 1.0)\n",
      "\n",
      "Page 1 - Page 2\n",
      "(-1.3859292911256307, 0.20317499853824886)\n",
      "\n",
      "Page 1 - Page 3\n",
      "(-0.34030136960725227, 0.7423928129048489)\n",
      "\n",
      "Page 1 - Page 4\n",
      "(1.156191733258663, 0.28096106091142226)\n",
      "\n",
      "Page 2 - Page 1\n",
      "(1.3859292911256307, 0.20317499853824886)\n",
      "\n",
      "Page 2 - Page 2\n",
      "(0.0, 1.0)\n",
      "\n",
      "Page 2 - Page 3\n",
      "(1.2650143347589609, 0.24146881279653873)\n",
      "\n",
      "Page 2 - Page 4\n",
      "(4.950587917224828, 0.001120056434441126)\n",
      "\n",
      "Page 3 - Page 1\n",
      "(0.34030136960725227, 0.7423928129048489)\n",
      "\n",
      "Page 3 - Page 2\n",
      "(-1.2650143347589609, 0.24146881279653873)\n",
      "\n",
      "Page 3 - Page 3\n",
      "(0.0, 1.0)\n",
      "\n",
      "Page 3 - Page 4\n",
      "(1.9782125034804172, 0.08327876770509358)\n",
      "\n",
      "Page 4 - Page 1\n",
      "(-1.156191733258663, 0.28096106091142226)\n",
      "\n",
      "Page 4 - Page 2\n",
      "(-4.950587917224828, 0.001120056434441126)\n",
      "\n",
      "Page 4 - Page 3\n",
      "(-1.9782125034804172, 0.08327876770509358)\n",
      "\n",
      "Page 4 - Page 4\n",
      "(0.0, 1.0)\n"
     ]
    }
   ],
   "source": [
    "for i in zip( pg, list ), k in 1:4\n",
    "    @printf \"\\n%s - %s\\n\" i[1] pg[k]\n",
    "    println(ss.ttest_ind(i[2], list[k]))\n",
    "end"
   ]
  },
  {
   "cell_type": "markdown",
   "id": "d6655e11",
   "metadata": {
    "hidden": true
   },
   "source": [
    "Somente em relação a página 4 com a página 2 o p-value ficou pequeno. \n",
    "\n",
    "Porém são muitos testes T realizados, logo é possível cair em um problema de superestimar a significância."
   ]
  },
  {
   "cell_type": "markdown",
   "id": "83b3ef0c",
   "metadata": {
    "heading_collapsed": true,
    "hidden": true
   },
   "source": [
    "### 3.6.3. Bonferroni & Sidak Correction"
   ]
  },
  {
   "cell_type": "markdown",
   "id": "9996db19",
   "metadata": {
    "hidden": true
   },
   "source": [
    "Quando se trabalha com a Anova ou multiplos testes t, geralmente podem superestimar a significância, ou seja, maior a chance de encontrar p valores pequenos, uma forma de corrigir esse problema é com a correção de bonferroni, que nada mais é que dividir o nível de significância pelo número unicos de comparações feitas, por exemplo $0.05 \\div 6 = 0.0083%$<br>\n",
    "Com a correção de Sidak, a formula é $1 - (1 - 0.05)^{(1/6)} = 0.0085$.<br>Outro comuntemte utilizado tambem é o Tukey's test "
   ]
  },
  {
   "cell_type": "code",
   "execution_count": 427,
   "id": "74986155",
   "metadata": {
    "hidden": true
   },
   "outputs": [
    {
     "data": {
      "image/png": "[encoded data removed]",
      "text/plain": [
       "Figure(PyObject <Figure size 1000x600 with 1 Axes>)"
      ]
     },
     "metadata": {},
     "output_type": "display_data"
    },
    {
     "data": {
      "text/html": [
       "<div>\n",
       "<style scoped>\n",
       "    .dataframe tbody tr th:only-of-type {\n",
       "        vertical-align: middle;\n",
       "    }\n",
       "\n",
       "    .dataframe tbody tr th {\n",
       "        vertical-align: top;\n",
       "    }\n",
       "\n",
       "    .dataframe thead th {\n",
       "        text-align: right;\n",
       "    }\n",
       "</style>\n",
       "<table border=\"1\" class=\"dataframe\">\n",
       "  <thead>\n",
       "    <tr style=\"text-align: right;\">\n",
       "      <th></th>\n",
       "      <th>group1</th>\n",
       "      <th>group2</th>\n",
       "      <th>meandiff</th>\n",
       "      <th>p-adj</th>\n",
       "      <th>lower</th>\n",
       "      <th>upper</th>\n",
       "      <th>reject</th>\n",
       "    </tr>\n",
       "  </thead>\n",
       "  <tbody>\n",
       "    <tr>\n",
       "      <th>1</th>\n",
       "      <td>Page 1</td>\n",
       "      <td>Page 2</td>\n",
       "      <td>9.8</td>\n",
       "      <td>0.4393</td>\n",
       "      <td>-8.3999</td>\n",
       "      <td>27.9999</td>\n",
       "      <td>False</td>\n",
       "    </tr>\n",
       "    <tr>\n",
       "      <th>2</th>\n",
       "      <td>Page 1</td>\n",
       "      <td>Page 3</td>\n",
       "      <td>2.8</td>\n",
       "      <td>0.9</td>\n",
       "      <td>-15.3999</td>\n",
       "      <td>20.9999</td>\n",
       "      <td>False</td>\n",
       "    </tr>\n",
       "    <tr>\n",
       "      <th>3</th>\n",
       "      <td>Page 1</td>\n",
       "      <td>Page 4</td>\n",
       "      <td>-8.2</td>\n",
       "      <td>0.5758</td>\n",
       "      <td>-26.3999</td>\n",
       "      <td>9.9999</td>\n",
       "      <td>False</td>\n",
       "    </tr>\n",
       "    <tr>\n",
       "      <th>4</th>\n",
       "      <td>Page 2</td>\n",
       "      <td>Page 3</td>\n",
       "      <td>-7.0</td>\n",
       "      <td>0.6774</td>\n",
       "      <td>-25.1999</td>\n",
       "      <td>11.1999</td>\n",
       "      <td>False</td>\n",
       "    </tr>\n",
       "    <tr>\n",
       "      <th>5</th>\n",
       "      <td>Page 2</td>\n",
       "      <td>Page 4</td>\n",
       "      <td>-18.0</td>\n",
       "      <td>0.0531</td>\n",
       "      <td>-36.1999</td>\n",
       "      <td>0.1999</td>\n",
       "      <td>False</td>\n",
       "    </tr>\n",
       "    <tr>\n",
       "      <th>6</th>\n",
       "      <td>Page 3</td>\n",
       "      <td>Page 4</td>\n",
       "      <td>-11.0</td>\n",
       "      <td>0.3419</td>\n",
       "      <td>-29.1999</td>\n",
       "      <td>7.1999</td>\n",
       "      <td>False</td>\n",
       "    </tr>\n",
       "  </tbody>\n",
       "</table>\n",
       "</div>"
      ],
      "text/plain": [
       "PyObject 0  group1  group2 meandiff   p-adj     lower    upper reject\n",
       "1  Page 1  Page 2      9.8  0.4393   -8.3999  27.9999  False\n",
       "2  Page 1  Page 3      2.8     0.9  -15.3999  20.9999  False\n",
       "3  Page 1  Page 4     -8.2  0.5758  -26.3999   9.9999  False\n",
       "4  Page 2  Page 3     -7.0  0.6774  -25.1999  11.1999  False\n",
       "5  Page 2  Page 4    -18.0  0.0531  -36.1999   0.1999  False\n",
       "6  Page 3  Page 4    -11.0  0.3419  -29.1999   7.1999  False"
      ]
     },
     "execution_count": 427,
     "metadata": {},
     "output_type": "execute_result"
    }
   ],
   "source": [
    "py\"tukey\"(df1.Time, df1.Page, 0.05)"
   ]
  },
  {
   "cell_type": "markdown",
   "id": "3755dd2f",
   "metadata": {},
   "source": [
    "# x.0. Referências"
   ]
  },
  {
   "cell_type": "markdown",
   "id": "45b547de",
   "metadata": {},
   "source": [
    "PETER BRUCE & ANDREW BRUCE **Estatística prática para cientistas de dados: 50 conceitos essenciais**.\n",
    "<br>Link: https://www.amazon.com.br/Estat%C3%ADstica-Pr%C3%A1tica-Para-Cientistas-Dados/dp/855080603X<br><br>\n",
    "\n",
    "DAVID MATOS **8 Conceitos Estatísticos Fundamentais Para Data Science**. <br>Link: https://www.cienciaedados.com/8-conceitos-estatisticos-fundamentais-para-data-science/<br><br>\n",
    "\n",
    "IGOR SOARES **Correlação não implica em Causalidade**.<br>Link: https://medium.com/@felipemaiapolo/correla%C3%A7%C3%A3o-n%C3%A3o-implica-em-causalidade-8459179ad1bc.\n",
    "<br><br>annahaensch **Número de Casos de Divórcio em Maine**<br>Link: https://blogs.ams.org/blogonmathblogs/2017/04/10/divorce-and-margarine/<br><br>\n",
    "\n",
    "Wikipédia **Cramer's_V**<br>Link: https://en.wikipedia.org/wiki/Cram%C3%A9r%27s_V<br><br>BURKEYACADEMY **What are Skewness and Kurtosis?**<br>Link: https://www.youtube.com/watch?v=lK7nLzxiAQQ<br><br>\n",
    "\n",
    "\n",
    "(Discourse) **qqnorm & qqplot**<br>Link: https://discourse.julialang.org/t/qqnorm-and-qqplot/6118/8<br><br>\n",
    "Professor Guru **Tabela Normal Padrão**<br>Link: https://professorguru.com.br/tabela-normal.html<br><br>\n",
    "Univesp **Probabilidade e Estatística**<br>Link: https://www.youtube.com/watch?v=7VQE278hIXc&list=PLxI8Can9yAHeeWqe3m9HZFiBhT33Mfxew<br><br>\n",
    "Todd Grande **Bonferroni**<br>Link: https://www.youtube.com/watch?v=pbWkwEz-XBY<br><br>\n",
    "Zach **Kruskall Wallis**<br>Link: https://www.statology.org/kruskal-wallis-test-python/#:~:text=A%20Kruskal%2DWallis%20Test%20is,of%20the%20One%2DWay%20ANOVA.<br><br>\n",
    "USP **Teste Exato de Fisher**<br>Link: http://wiki.icmc.usp.br/images/7/73/Chisq-fisher.pdf<br><br>"
   ]
  }
 ],
 "metadata": {
  "hide_input": false,
  "kernelspec": {
   "display_name": "Julia 1.7.2",
   "language": "julia",
   "name": "julia-1.7"
  },
  "language_info": {
   "file_extension": ".jl",
   "mimetype": "application/julia",
   "name": "julia",
   "version": "1.7.2"
  },
  "varInspector": {
   "cols": {
    "lenName": 16,
    "lenType": 16,
    "lenVar": 40
   },
   "kernels_config": {
    "python": {
     "delete_cmd_postfix": "",
     "delete_cmd_prefix": "del ",
     "library": "var_list.py",
     "varRefreshCmd": "print(var_dic_list())"
    },
    "r": {
     "delete_cmd_postfix": ") ",
     "delete_cmd_prefix": "rm(",
     "library": "var_list.r",
     "varRefreshCmd": "cat(var_dic_list()) "
    }
   },
   "types_to_exclude": [
    "module",
    "function",
    "builtin_function_or_method",
    "instance",
    "_Feature"
   ],
   "window_display": false
  }
 },
 "nbformat": 4,
 "nbformat_minor": 5
}
